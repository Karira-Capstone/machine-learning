{
  "cells": [
    {
      "cell_type": "markdown",
      "metadata": {
        "id": "tvOeQg6i3ooI"
      },
      "source": [
        "## 📦 **Import Libraries**"
      ]
    },
    {
      "cell_type": "code",
      "source": [
        "!pip install Sastrawi"
      ],
      "metadata": {
        "colab": {
          "base_uri": "https://localhost:8080/"
        },
        "id": "4wnlq3Qs4LLC",
        "outputId": "0263d5cf-7bb1-4ba5-ac6a-95a673d75c3c"
      },
      "execution_count": null,
      "outputs": [
        {
          "output_type": "stream",
          "name": "stdout",
          "text": [
            "Looking in indexes: https://pypi.org/simple, https://us-python.pkg.dev/colab-wheels/public/simple/\n",
            "Collecting Sastrawi\n",
            "  Downloading Sastrawi-1.0.1-py2.py3-none-any.whl (209 kB)\n",
            "\u001b[2K     \u001b[90m━━━━━━━━━━━━━━━━━━━━━━━━━━━━━━━━━━━━━━━\u001b[0m \u001b[32m209.7/209.7 kB\u001b[0m \u001b[31m6.1 MB/s\u001b[0m eta \u001b[36m0:00:00\u001b[0m\n",
            "\u001b[?25hInstalling collected packages: Sastrawi\n",
            "Successfully installed Sastrawi-1.0.1\n"
          ]
        }
      ]
    },
    {
      "cell_type": "code",
      "execution_count": null,
      "metadata": {
        "colab": {
          "base_uri": "https://localhost:8080/"
        },
        "id": "KueTBi-K3oog",
        "outputId": "64f82b06-4e85-4804-9307-9bd53f89d19c"
      },
      "outputs": [
        {
          "output_type": "stream",
          "name": "stdout",
          "text": [
            "Mounted at /content/drive\n"
          ]
        }
      ],
      "source": [
        "import warnings\n",
        "warnings.filterwarnings('ignore')\n",
        "\n",
        "# mount drive\n",
        "from google.colab import drive\n",
        "drive.mount('/content/drive')\n",
        "\n",
        "import pandas as pd\n",
        "import numpy as np\n",
        "import re, string\n",
        "\n",
        "import seaborn as sns\n",
        "import matplotlib.pyplot as plt\n",
        "import missingno as msno\n",
        "from wordcloud import WordCloud\n",
        "\n",
        "# from googletrans import Translator\n",
        "from Sastrawi.StopWordRemover.StopWordRemoverFactory import StopWordRemoverFactory, StopWordRemover, ArrayDictionary\n",
        "from Sastrawi.Stemmer.StemmerFactory import StemmerFactory"
      ]
    },
    {
      "cell_type": "markdown",
      "metadata": {
        "id": "Ym44cS4M3ooj"
      },
      "source": [
        "## 🗃️ **Data Preparation**"
      ]
    },
    {
      "cell_type": "code",
      "execution_count": null,
      "metadata": {
        "id": "kZALaM2g3ook"
      },
      "outputs": [],
      "source": [
        "dir = '/content/drive/Shareddrives/Capstone Project/Product-based/ml-stuff/data/'\n",
        "\n",
        "projects = pd.read_csv(dir + 'projects_remove_stopwords_only.csv')\n",
        "\n",
        "kamus_alay = pd.read_csv('https://raw.githubusercontent.com/nasalsabila/kamus-alay/master/colloquial-indonesian-lexicon.csv')\n",
        "# kamus_alay = pd.read_csv(dir + 'colloquial-indonesian-lexicon.csv')\n",
        "kamus_alay = kamus_alay.filter(['slang', 'formal'], axis = 1).drop_duplicates(subset = ['slang'])\n",
        "kamus_alay_map = dict(zip(kamus_alay['slang'], kamus_alay['formal']))"
      ]
    },
    {
      "cell_type": "markdown",
      "metadata": {
        "id": "XBOSVJzF3ool"
      },
      "source": [
        "#### 📂 **Dataset Information**"
      ]
    },
    {
      "cell_type": "code",
      "execution_count": null,
      "metadata": {
        "colab": {
          "base_uri": "https://localhost:8080/"
        },
        "id": "6tOuxgMs3oom",
        "outputId": "a02002a4-796e-48eb-a87a-faaef492b689"
      },
      "outputs": [
        {
          "output_type": "execute_result",
          "data": {
            "text/plain": [
              "   Unnamed: 0                                    title_clean  \\\n",
              "0           0      penulis yang tinggal di apartemen jakarta   \n",
              "1           1                membuat artikel di media online   \n",
              "2           2    editing 12 shortt video untuk konten tiktok   \n",
              "3           3  cari akun canva creator element atau template   \n",
              "4           4         cari jasa upload aplikasi ke app store   \n",
              "\n",
              "                                          desc_clean  finishDays  \\\n",
              "0  menulis 1 artikel review mengenai apartemen di...         7.0   \n",
              "1  pekerjaan membuat artikel di salah satu media ...         7.0   \n",
              "2  hi saya ada 12 video rata rata 1 menit untuk d...         7.0   \n",
              "3  yang punya akun canva creator element atau can...         7.0   \n",
              "4   sedang mencari jasa upload aplikasi ke app store         7.0   \n",
              "\n",
              "                                          tags_token  tags_cluster   budget  \n",
              "0                                        ['Writing']             4   250000  \n",
              "1  ['Blog', 'Blogspot', 'Content Management Syste...             4   350000  \n",
              "2  ['Social Media Marketing (SMM)', 'Adobe Illust...             2   200000  \n",
              "3  ['Design Arts', 'Graphic Design', 'Logo Design...             3  1000000  \n",
              "4                                     ['iPhone/iOS']             2   150000  "
            ],
            "text/html": [
              "\n",
              "  <div id=\"df-c771cd93-8212-4a10-9c60-ab709fc4650c\">\n",
              "    <div class=\"colab-df-container\">\n",
              "      <div>\n",
              "<style scoped>\n",
              "    .dataframe tbody tr th:only-of-type {\n",
              "        vertical-align: middle;\n",
              "    }\n",
              "\n",
              "    .dataframe tbody tr th {\n",
              "        vertical-align: top;\n",
              "    }\n",
              "\n",
              "    .dataframe thead th {\n",
              "        text-align: right;\n",
              "    }\n",
              "</style>\n",
              "<table border=\"1\" class=\"dataframe\">\n",
              "  <thead>\n",
              "    <tr style=\"text-align: right;\">\n",
              "      <th></th>\n",
              "      <th>Unnamed: 0</th>\n",
              "      <th>title_clean</th>\n",
              "      <th>desc_clean</th>\n",
              "      <th>finishDays</th>\n",
              "      <th>tags_token</th>\n",
              "      <th>tags_cluster</th>\n",
              "      <th>budget</th>\n",
              "    </tr>\n",
              "  </thead>\n",
              "  <tbody>\n",
              "    <tr>\n",
              "      <th>0</th>\n",
              "      <td>0</td>\n",
              "      <td>penulis yang tinggal di apartemen jakarta</td>\n",
              "      <td>menulis 1 artikel review mengenai apartemen di...</td>\n",
              "      <td>7.0</td>\n",
              "      <td>['Writing']</td>\n",
              "      <td>4</td>\n",
              "      <td>250000</td>\n",
              "    </tr>\n",
              "    <tr>\n",
              "      <th>1</th>\n",
              "      <td>1</td>\n",
              "      <td>membuat artikel di media online</td>\n",
              "      <td>pekerjaan membuat artikel di salah satu media ...</td>\n",
              "      <td>7.0</td>\n",
              "      <td>['Blog', 'Blogspot', 'Content Management Syste...</td>\n",
              "      <td>4</td>\n",
              "      <td>350000</td>\n",
              "    </tr>\n",
              "    <tr>\n",
              "      <th>2</th>\n",
              "      <td>2</td>\n",
              "      <td>editing 12 shortt video untuk konten tiktok</td>\n",
              "      <td>hi saya ada 12 video rata rata 1 menit untuk d...</td>\n",
              "      <td>7.0</td>\n",
              "      <td>['Social Media Marketing (SMM)', 'Adobe Illust...</td>\n",
              "      <td>2</td>\n",
              "      <td>200000</td>\n",
              "    </tr>\n",
              "    <tr>\n",
              "      <th>3</th>\n",
              "      <td>3</td>\n",
              "      <td>cari akun canva creator element atau template</td>\n",
              "      <td>yang punya akun canva creator element atau can...</td>\n",
              "      <td>7.0</td>\n",
              "      <td>['Design Arts', 'Graphic Design', 'Logo Design...</td>\n",
              "      <td>3</td>\n",
              "      <td>1000000</td>\n",
              "    </tr>\n",
              "    <tr>\n",
              "      <th>4</th>\n",
              "      <td>4</td>\n",
              "      <td>cari jasa upload aplikasi ke app store</td>\n",
              "      <td>sedang mencari jasa upload aplikasi ke app store</td>\n",
              "      <td>7.0</td>\n",
              "      <td>['iPhone/iOS']</td>\n",
              "      <td>2</td>\n",
              "      <td>150000</td>\n",
              "    </tr>\n",
              "  </tbody>\n",
              "</table>\n",
              "</div>\n",
              "      <button class=\"colab-df-convert\" onclick=\"convertToInteractive('df-c771cd93-8212-4a10-9c60-ab709fc4650c')\"\n",
              "              title=\"Convert this dataframe to an interactive table.\"\n",
              "              style=\"display:none;\">\n",
              "        \n",
              "  <svg xmlns=\"http://www.w3.org/2000/svg\" height=\"24px\"viewBox=\"0 0 24 24\"\n",
              "       width=\"24px\">\n",
              "    <path d=\"M0 0h24v24H0V0z\" fill=\"none\"/>\n",
              "    <path d=\"M18.56 5.44l.94 2.06.94-2.06 2.06-.94-2.06-.94-.94-2.06-.94 2.06-2.06.94zm-11 1L8.5 8.5l.94-2.06 2.06-.94-2.06-.94L8.5 2.5l-.94 2.06-2.06.94zm10 10l.94 2.06.94-2.06 2.06-.94-2.06-.94-.94-2.06-.94 2.06-2.06.94z\"/><path d=\"M17.41 7.96l-1.37-1.37c-.4-.4-.92-.59-1.43-.59-.52 0-1.04.2-1.43.59L10.3 9.45l-7.72 7.72c-.78.78-.78 2.05 0 2.83L4 21.41c.39.39.9.59 1.41.59.51 0 1.02-.2 1.41-.59l7.78-7.78 2.81-2.81c.8-.78.8-2.07 0-2.86zM5.41 20L4 18.59l7.72-7.72 1.47 1.35L5.41 20z\"/>\n",
              "  </svg>\n",
              "      </button>\n",
              "      \n",
              "  <style>\n",
              "    .colab-df-container {\n",
              "      display:flex;\n",
              "      flex-wrap:wrap;\n",
              "      gap: 12px;\n",
              "    }\n",
              "\n",
              "    .colab-df-convert {\n",
              "      background-color: #E8F0FE;\n",
              "      border: none;\n",
              "      border-radius: 50%;\n",
              "      cursor: pointer;\n",
              "      display: none;\n",
              "      fill: #1967D2;\n",
              "      height: 32px;\n",
              "      padding: 0 0 0 0;\n",
              "      width: 32px;\n",
              "    }\n",
              "\n",
              "    .colab-df-convert:hover {\n",
              "      background-color: #E2EBFA;\n",
              "      box-shadow: 0px 1px 2px rgba(60, 64, 67, 0.3), 0px 1px 3px 1px rgba(60, 64, 67, 0.15);\n",
              "      fill: #174EA6;\n",
              "    }\n",
              "\n",
              "    [theme=dark] .colab-df-convert {\n",
              "      background-color: #3B4455;\n",
              "      fill: #D2E3FC;\n",
              "    }\n",
              "\n",
              "    [theme=dark] .colab-df-convert:hover {\n",
              "      background-color: #434B5C;\n",
              "      box-shadow: 0px 1px 3px 1px rgba(0, 0, 0, 0.15);\n",
              "      filter: drop-shadow(0px 1px 2px rgba(0, 0, 0, 0.3));\n",
              "      fill: #FFFFFF;\n",
              "    }\n",
              "  </style>\n",
              "\n",
              "      <script>\n",
              "        const buttonEl =\n",
              "          document.querySelector('#df-c771cd93-8212-4a10-9c60-ab709fc4650c button.colab-df-convert');\n",
              "        buttonEl.style.display =\n",
              "          google.colab.kernel.accessAllowed ? 'block' : 'none';\n",
              "\n",
              "        async function convertToInteractive(key) {\n",
              "          const element = document.querySelector('#df-c771cd93-8212-4a10-9c60-ab709fc4650c');\n",
              "          const dataTable =\n",
              "            await google.colab.kernel.invokeFunction('convertToInteractive',\n",
              "                                                     [key], {});\n",
              "          if (!dataTable) return;\n",
              "\n",
              "          const docLinkHtml = 'Like what you see? Visit the ' +\n",
              "            '<a target=\"_blank\" href=https://colab.research.google.com/notebooks/data_table.ipynb>data table notebook</a>'\n",
              "            + ' to learn more about interactive tables.';\n",
              "          element.innerHTML = '';\n",
              "          dataTable['output_type'] = 'display_data';\n",
              "          await google.colab.output.renderOutput(dataTable, element);\n",
              "          const docLink = document.createElement('div');\n",
              "          docLink.innerHTML = docLinkHtml;\n",
              "          element.appendChild(docLink);\n",
              "        }\n",
              "      </script>\n",
              "    </div>\n",
              "  </div>\n",
              "  "
            ]
          },
          "metadata": {},
          "execution_count": 4
        }
      ],
      "source": [
        "projects.head()"
      ]
    },
    {
      "cell_type": "code",
      "source": [
        "projects = projects.drop('Unnamed: 0', axis=1)"
      ],
      "metadata": {
        "id": "GgpsV_wtm1E2"
      },
      "execution_count": null,
      "outputs": []
    },
    {
      "cell_type": "code",
      "execution_count": null,
      "metadata": {
        "id": "3scThVZu3ooo",
        "outputId": "bab86fbf-a6bb-4115-e230-83b18c18015f",
        "colab": {
          "base_uri": "https://localhost:8080/"
        }
      },
      "outputs": [
        {
          "output_type": "stream",
          "name": "stdout",
          "text": [
            "<class 'pandas.core.frame.DataFrame'>\n",
            "RangeIndex: 39228 entries, 0 to 39227\n",
            "Data columns (total 6 columns):\n",
            " #   Column        Non-Null Count  Dtype  \n",
            "---  ------        --------------  -----  \n",
            " 0   title_clean   39225 non-null  object \n",
            " 1   desc_clean    39225 non-null  object \n",
            " 2   finishDays    39228 non-null  float64\n",
            " 3   tags_token    39228 non-null  object \n",
            " 4   tags_cluster  39228 non-null  int64  \n",
            " 5   budget        39228 non-null  int64  \n",
            "dtypes: float64(1), int64(2), object(3)\n",
            "memory usage: 1.8+ MB\n"
          ]
        }
      ],
      "source": [
        "projects.info()"
      ]
    },
    {
      "cell_type": "markdown",
      "metadata": {
        "id": "5V-qdynQ3oor"
      },
      "source": [
        "## 📊 **Exploratory Data Analysis**"
      ]
    },
    {
      "cell_type": "markdown",
      "metadata": {
        "id": "h18Sh3aC3oor"
      },
      "source": [
        "### **Missing Values Overview**"
      ]
    },
    {
      "cell_type": "code",
      "execution_count": null,
      "metadata": {
        "colab": {
          "base_uri": "https://localhost:8080/"
        },
        "id": "5Ssm2apQ3oos",
        "outputId": "68199b46-981c-48e6-d308-d3b19fcc0554"
      },
      "outputs": [
        {
          "output_type": "display_data",
          "data": {
            "text/plain": [
              "<Figure size 2500x1000 with 2 Axes>"
            ],
            "image/png": "[encoded data removed]"
          },
          "metadata": {}
        }
      ],
      "source": [
        "msno.matrix(projects)\n",
        "plt.show()"
      ]
    },
    {
      "cell_type": "code",
      "execution_count": null,
      "metadata": {
        "colab": {
          "base_uri": "https://localhost:8080/"
        },
        "id": "EkjC0T2p3oos",
        "outputId": "6423e399-868c-41bb-a078-142aeffd6f95"
      },
      "outputs": [
        {
          "output_type": "execute_result",
          "data": {
            "text/plain": [
              "text_clean    0.0001\n",
              "Unnamed: 0    0.0000\n",
              "finishDays    0.0000\n",
              "tags_token    0.0000\n",
              "budget        0.0000\n",
              "dtype: float64"
            ]
          },
          "metadata": {},
          "execution_count": 5
        }
      ],
      "source": [
        "round(projects.isna().mean().sort_values(ascending = False), 4)"
      ]
    },
    {
      "cell_type": "markdown",
      "metadata": {
        "id": "vfaq0e5A3oov"
      },
      "source": [
        "### **Target Overview**"
      ]
    },
    {
      "cell_type": "markdown",
      "metadata": {
        "id": "mnbkU-493oow"
      },
      "source": [
        "##### `budget`"
      ]
    },
    {
      "cell_type": "code",
      "source": [
        "df = projects"
      ],
      "metadata": {
        "id": "cTzJX9NbnOZA"
      },
      "execution_count": null,
      "outputs": []
    },
    {
      "cell_type": "code",
      "execution_count": null,
      "metadata": {
        "colab": {
          "base_uri": "https://localhost:8080/"
        },
        "id": "dhq1JXMF3oow",
        "outputId": "1b7e835f-860d-47db-8133-0a20202ca5b3"
      },
      "outputs": [
        {
          "output_type": "display_data",
          "data": {
            "text/plain": [
              "<Figure size 1000x400 with 2 Axes>"
            ],
            "image/png": "[encoded data removed]"
          },
          "metadata": {}
        }
      ],
      "source": [
        "fig, axes = plt.subplots(1, 2, figsize = (10, 4))\n",
        "\n",
        "sns.histplot(df['budget'], kde = True, ax = axes[0])\n",
        "sns.histplot(np.log(df['budget']), kde = True, ax = axes[1])\n",
        "\n",
        "plt.tight_layout(pad = 2)\n",
        "plt.show()"
      ]
    },
    {
      "cell_type": "markdown",
      "source": [
        "## Pre-modeling"
      ],
      "metadata": {
        "id": "aEklxW4VeUmz"
      }
    },
    {
      "cell_type": "code",
      "source": [
        "df['text'] = df['text_clean'].astype(str)"
      ],
      "metadata": {
        "id": "imTYdldXOuyc"
      },
      "execution_count": null,
      "outputs": []
    },
    {
      "cell_type": "code",
      "source": [
        "BINS = [20000,50000,100000,150000,200000,250000,300000,400000,450000,500000,\n",
        "        600000, 700000, 800000, 900000, 1000000,\n",
        "        1500000, 2000000, 2500000, 3000000, 4000000, 5000000, 6000000, 7000000, \n",
        "        8000000, 9000000, 10000000, 15000000, 20000000, 25000000, 30000000, 40000000]\n",
        "\n",
        "df['budget_bins'] = pd.cut(x=df['budget'], bins=BINS, labels=False)"
      ],
      "metadata": {
        "id": "E_-BADlYochq"
      },
      "execution_count": null,
      "outputs": []
    },
    {
      "cell_type": "code",
      "source": [
        "df = df[df['budget'] < 25000000]"
      ],
      "metadata": {
        "id": "If0XNyG1j3RJ"
      },
      "execution_count": null,
      "outputs": []
    },
    {
      "cell_type": "code",
      "source": [
        "df['budget_tags'] = np.select(\n",
        "    [df['budget'].between(20000, 50000),\n",
        "     df['budget'].between(50000, 100000),\n",
        "     df['budget'].between(100000, 150000),\n",
        "     df['budget'].between(150000, 200000),\n",
        "     df['budget'].between(200000, 250000),\n",
        "     df['budget'].between(250000, 300000),\n",
        "     df['budget'].between(300000, 350000),\n",
        "     df['budget'].between(350000, 450000),\n",
        "     df['budget'].between(450000, 500000),\n",
        "     df['budget'].between(500000, 600000),\n",
        "     df['budget'].between(600000, 700000),\n",
        "     df['budget'].between(700000, 800000),\n",
        "     df['budget'].between(800000, 900000),\n",
        "     df['budget'].between(900000, 1000000),\n",
        "     df['budget'].between(1000000, 1250000),\n",
        "     df['budget'].between(1250000, 1500000),\n",
        "     df['budget'].between(1500000, 1750000),\n",
        "     df['budget'].between(1750000, 2000000),\n",
        "     df['budget'].between(2000000, 2500000),\n",
        "     df['budget'].between(2500000, 3000000),\n",
        "     df['budget'].between(3000000, 4000000),\n",
        "     df['budget'].between(4000000, 5000000),\n",
        "     df['budget'].between(5000000, 6000000),\n",
        "     df['budget'].between(6000000, 7000000),\n",
        "     df['budget'].between(7000000, 8000000),\n",
        "     df['budget'].between(8000000, 9000000),\n",
        "     df['budget'].between(9000000, 10000000),\n",
        "     df['budget'].between(10000000, 12500000),\n",
        "     df['budget'].between(12500000, 15000000),\n",
        "     df['budget'].between(15000000, 17500000),\n",
        "     df['budget'].between(17500000, 20000000),\n",
        "     df['budget'].between(20000000, 25000000)],\n",
        "    ['20 - 50 Ribu', '50 - 100 Ribu', '100 - 150 Ribu', '150 - 200 Ribu','200 - 250 Ribu',\n",
        "     '250 - 300 Ribu', '300 - 350 Ribu', '350 - 450 Ribu','450 - 500 Ribu', '500 - 600 Ribu',\n",
        "     '600 - 700 Ribu', '700 - 800 Ribu', '800 - 900 Ribu', \n",
        "     '900 Ribu -  1 Juta', '1 -  1.25 Juta', '1.25 -  1.5 Juta', '1.5 -  1.75 Juta', '1.75 -  2 Juta', \n",
        "     '2 -  2.5 Juta', '2.5 -  3 Juta', '3 -  4 Juta', '4 -  5 Juta', '5 -  6 Juta', '6 -  7 Juta',\n",
        "     '7 -  8 Juta', '8 -  9 Juta', '9 -  10 Juta', '10 -  12.5 Juta', '12.5 -  15 Juta',\n",
        "     '15 -  17.5 Juta', '17.5 -  20 Juta', '20 -  25 Juta'],\n",
        "    np.nan\n",
        ")"
      ],
      "metadata": {
        "id": "VINvCYgXhzoE"
      },
      "execution_count": null,
      "outputs": []
    },
    {
      "cell_type": "code",
      "source": [
        "df.head()"
      ],
      "metadata": {
        "colab": {
          "base_uri": "https://localhost:8080/",
          "height": 721
        },
        "id": "2cNqAfo6m8uP",
        "outputId": "29b52849-83e7-4454-90c2-e4f123c2a38d"
      },
      "execution_count": null,
      "outputs": [
        {
          "output_type": "execute_result",
          "data": {
            "text/plain": [
              "   Unnamed: 0                                         text_clean  finishDays  \\\n",
              "0           0  penulis tinggal apartemen jakarta menulis 1 ar...         7.0   \n",
              "1           1  membuat artikel media online pekerjaan membuat...         7.0   \n",
              "2           2  editing 12 shortt video konten tiktok hi ada 1...         7.0   \n",
              "3           3  cari akun canva creator element template punya...         7.0   \n",
              "4           4  cari jasa upload aplikasi app store sedang men...         7.0   \n",
              "\n",
              "                                          tags_token     budget  \\\n",
              "0                                        ['Writing']   250000.0   \n",
              "1  ['Blog', 'Blogspot', 'Content Management Syste...   350000.0   \n",
              "2  ['Social Media Marketing (SMM)', 'Adobe Illust...   200000.0   \n",
              "3  ['Design Arts', 'Graphic Design', 'Logo Design...  1000000.0   \n",
              "4                                     ['iPhone/iOS']   150000.0   \n",
              "\n",
              "                                                text  budget_bins  \\\n",
              "0  penulis tinggal apartemen jakarta menulis 1 ar...          4.0   \n",
              "1  membuat artikel media online pekerjaan membuat...          6.0   \n",
              "2  editing 12 shortt video konten tiktok hi ada 1...          3.0   \n",
              "3  cari akun canva creator element template punya...         13.0   \n",
              "4  cari jasa upload aplikasi app store sedang men...          2.0   \n",
              "\n",
              "          budget_tags  \n",
              "0      200 - 250 Ribu  \n",
              "1      300 - 350 Ribu  \n",
              "2      150 - 200 Ribu  \n",
              "3  900 Ribu -  1 Juta  \n",
              "4      100 - 150 Ribu  "
            ],
            "text/html": [
              "\n",
              "  <div id=\"df-a008c4d8-2724-453e-8eed-7c9ec0d07538\">\n",
              "    <div class=\"colab-df-container\">\n",
              "      <div>\n",
              "<style scoped>\n",
              "    .dataframe tbody tr th:only-of-type {\n",
              "        vertical-align: middle;\n",
              "    }\n",
              "\n",
              "    .dataframe tbody tr th {\n",
              "        vertical-align: top;\n",
              "    }\n",
              "\n",
              "    .dataframe thead th {\n",
              "        text-align: right;\n",
              "    }\n",
              "</style>\n",
              "<table border=\"1\" class=\"dataframe\">\n",
              "  <thead>\n",
              "    <tr style=\"text-align: right;\">\n",
              "      <th></th>\n",
              "      <th>Unnamed: 0</th>\n",
              "      <th>text_clean</th>\n",
              "      <th>finishDays</th>\n",
              "      <th>tags_token</th>\n",
              "      <th>budget</th>\n",
              "      <th>text</th>\n",
              "      <th>budget_bins</th>\n",
              "      <th>budget_tags</th>\n",
              "    </tr>\n",
              "  </thead>\n",
              "  <tbody>\n",
              "    <tr>\n",
              "      <th>0</th>\n",
              "      <td>0</td>\n",
              "      <td>penulis tinggal apartemen jakarta menulis 1 ar...</td>\n",
              "      <td>7.0</td>\n",
              "      <td>['Writing']</td>\n",
              "      <td>250000.0</td>\n",
              "      <td>penulis tinggal apartemen jakarta menulis 1 ar...</td>\n",
              "      <td>4.0</td>\n",
              "      <td>200 - 250 Ribu</td>\n",
              "    </tr>\n",
              "    <tr>\n",
              "      <th>1</th>\n",
              "      <td>1</td>\n",
              "      <td>membuat artikel media online pekerjaan membuat...</td>\n",
              "      <td>7.0</td>\n",
              "      <td>['Blog', 'Blogspot', 'Content Management Syste...</td>\n",
              "      <td>350000.0</td>\n",
              "      <td>membuat artikel media online pekerjaan membuat...</td>\n",
              "      <td>6.0</td>\n",
              "      <td>300 - 350 Ribu</td>\n",
              "    </tr>\n",
              "    <tr>\n",
              "      <th>2</th>\n",
              "      <td>2</td>\n",
              "      <td>editing 12 shortt video konten tiktok hi ada 1...</td>\n",
              "      <td>7.0</td>\n",
              "      <td>['Social Media Marketing (SMM)', 'Adobe Illust...</td>\n",
              "      <td>200000.0</td>\n",
              "      <td>editing 12 shortt video konten tiktok hi ada 1...</td>\n",
              "      <td>3.0</td>\n",
              "      <td>150 - 200 Ribu</td>\n",
              "    </tr>\n",
              "    <tr>\n",
              "      <th>3</th>\n",
              "      <td>3</td>\n",
              "      <td>cari akun canva creator element template punya...</td>\n",
              "      <td>7.0</td>\n",
              "      <td>['Design Arts', 'Graphic Design', 'Logo Design...</td>\n",
              "      <td>1000000.0</td>\n",
              "      <td>cari akun canva creator element template punya...</td>\n",
              "      <td>13.0</td>\n",
              "      <td>900 Ribu -  1 Juta</td>\n",
              "    </tr>\n",
              "    <tr>\n",
              "      <th>4</th>\n",
              "      <td>4</td>\n",
              "      <td>cari jasa upload aplikasi app store sedang men...</td>\n",
              "      <td>7.0</td>\n",
              "      <td>['iPhone/iOS']</td>\n",
              "      <td>150000.0</td>\n",
              "      <td>cari jasa upload aplikasi app store sedang men...</td>\n",
              "      <td>2.0</td>\n",
              "      <td>100 - 150 Ribu</td>\n",
              "    </tr>\n",
              "  </tbody>\n",
              "</table>\n",
              "</div>\n",
              "      <button class=\"colab-df-convert\" onclick=\"convertToInteractive('df-a008c4d8-2724-453e-8eed-7c9ec0d07538')\"\n",
              "              title=\"Convert this dataframe to an interactive table.\"\n",
              "              style=\"display:none;\">\n",
              "        \n",
              "  <svg xmlns=\"http://www.w3.org/2000/svg\" height=\"24px\"viewBox=\"0 0 24 24\"\n",
              "       width=\"24px\">\n",
              "    <path d=\"M0 0h24v24H0V0z\" fill=\"none\"/>\n",
              "    <path d=\"M18.56 5.44l.94 2.06.94-2.06 2.06-.94-2.06-.94-.94-2.06-.94 2.06-2.06.94zm-11 1L8.5 8.5l.94-2.06 2.06-.94-2.06-.94L8.5 2.5l-.94 2.06-2.06.94zm10 10l.94 2.06.94-2.06 2.06-.94-2.06-.94-.94-2.06-.94 2.06-2.06.94z\"/><path d=\"M17.41 7.96l-1.37-1.37c-.4-.4-.92-.59-1.43-.59-.52 0-1.04.2-1.43.59L10.3 9.45l-7.72 7.72c-.78.78-.78 2.05 0 2.83L4 21.41c.39.39.9.59 1.41.59.51 0 1.02-.2 1.41-.59l7.78-7.78 2.81-2.81c.8-.78.8-2.07 0-2.86zM5.41 20L4 18.59l7.72-7.72 1.47 1.35L5.41 20z\"/>\n",
              "  </svg>\n",
              "      </button>\n",
              "      \n",
              "  <style>\n",
              "    .colab-df-container {\n",
              "      display:flex;\n",
              "      flex-wrap:wrap;\n",
              "      gap: 12px;\n",
              "    }\n",
              "\n",
              "    .colab-df-convert {\n",
              "      background-color: #E8F0FE;\n",
              "      border: none;\n",
              "      border-radius: 50%;\n",
              "      cursor: pointer;\n",
              "      display: none;\n",
              "      fill: #1967D2;\n",
              "      height: 32px;\n",
              "      padding: 0 0 0 0;\n",
              "      width: 32px;\n",
              "    }\n",
              "\n",
              "    .colab-df-convert:hover {\n",
              "      background-color: #E2EBFA;\n",
              "      box-shadow: 0px 1px 2px rgba(60, 64, 67, 0.3), 0px 1px 3px 1px rgba(60, 64, 67, 0.15);\n",
              "      fill: #174EA6;\n",
              "    }\n",
              "\n",
              "    [theme=dark] .colab-df-convert {\n",
              "      background-color: #3B4455;\n",
              "      fill: #D2E3FC;\n",
              "    }\n",
              "\n",
              "    [theme=dark] .colab-df-convert:hover {\n",
              "      background-color: #434B5C;\n",
              "      box-shadow: 0px 1px 3px 1px rgba(0, 0, 0, 0.15);\n",
              "      filter: drop-shadow(0px 1px 2px rgba(0, 0, 0, 0.3));\n",
              "      fill: #FFFFFF;\n",
              "    }\n",
              "  </style>\n",
              "\n",
              "      <script>\n",
              "        const buttonEl =\n",
              "          document.querySelector('#df-a008c4d8-2724-453e-8eed-7c9ec0d07538 button.colab-df-convert');\n",
              "        buttonEl.style.display =\n",
              "          google.colab.kernel.accessAllowed ? 'block' : 'none';\n",
              "\n",
              "        async function convertToInteractive(key) {\n",
              "          const element = document.querySelector('#df-a008c4d8-2724-453e-8eed-7c9ec0d07538');\n",
              "          const dataTable =\n",
              "            await google.colab.kernel.invokeFunction('convertToInteractive',\n",
              "                                                     [key], {});\n",
              "          if (!dataTable) return;\n",
              "\n",
              "          const docLinkHtml = 'Like what you see? Visit the ' +\n",
              "            '<a target=\"_blank\" href=https://colab.research.google.com/notebooks/data_table.ipynb>data table notebook</a>'\n",
              "            + ' to learn more about interactive tables.';\n",
              "          element.innerHTML = '';\n",
              "          dataTable['output_type'] = 'display_data';\n",
              "          await google.colab.output.renderOutput(dataTable, element);\n",
              "          const docLink = document.createElement('div');\n",
              "          docLink.innerHTML = docLinkHtml;\n",
              "          element.appendChild(docLink);\n",
              "        }\n",
              "      </script>\n",
              "    </div>\n",
              "  </div>\n",
              "  "
            ]
          },
          "metadata": {},
          "execution_count": 13
        }
      ]
    },
    {
      "cell_type": "code",
      "source": [
        "# Filtering the rare terms.\n",
        "df_filtered = df.groupby(\"budget_tags\").filter(lambda x: len(x) > 1)\n",
        "df_filtered['budget_tags'] = df_filtered['budget_tags'].apply(lambda x: f\"'{x}'\")\n",
        "df_filtered['budget_tags'] = df_filtered['budget_tags'].apply(lambda x: f'[{x}]')\n",
        "df_filtered['budget_tags'] = list(df_filtered['budget_tags'].astype(str))"
      ],
      "metadata": {
        "id": "GEEH7Ou7nKMK"
      },
      "execution_count": null,
      "outputs": []
    },
    {
      "cell_type": "code",
      "source": [
        "df_filtered['budget_tags'].head()"
      ],
      "metadata": {
        "colab": {
          "base_uri": "https://localhost:8080/"
        },
        "id": "ukrQXYLoqxoy",
        "outputId": "b63c4bee-9e17-47a1-8d6c-fa031c49de49"
      },
      "execution_count": null,
      "outputs": [
        {
          "output_type": "execute_result",
          "data": {
            "text/plain": [
              "0        ['200 - 250 Ribu']\n",
              "1        ['300 - 350 Ribu']\n",
              "2        ['150 - 200 Ribu']\n",
              "3    ['900 Ribu -  1 Juta']\n",
              "4        ['100 - 150 Ribu']\n",
              "Name: budget_tags, dtype: object"
            ]
          },
          "metadata": {},
          "execution_count": 15
        }
      ]
    },
    {
      "cell_type": "code",
      "source": [
        "import ast \n",
        "\n",
        "df_filtered['budget_tags'] = [ast.literal_eval(i) for i in df_filtered['budget_tags']]\n",
        "df_filtered['budget_tags'].values[:5]"
      ],
      "metadata": {
        "colab": {
          "base_uri": "https://localhost:8080/"
        },
        "id": "hYEFh7pInQLV",
        "outputId": "be072b17-f22d-494c-8318-293217e3f9db"
      },
      "execution_count": null,
      "outputs": [
        {
          "output_type": "execute_result",
          "data": {
            "text/plain": [
              "array([list(['200 - 250 Ribu']), list(['300 - 350 Ribu']),\n",
              "       list(['150 - 200 Ribu']), list(['900 Ribu -  1 Juta']),\n",
              "       list(['100 - 150 Ribu'])], dtype=object)"
            ]
          },
          "metadata": {},
          "execution_count": 16
        }
      ]
    },
    {
      "cell_type": "code",
      "source": [],
      "metadata": {
        "id": "Tm1cIGveu0GW"
      },
      "execution_count": null,
      "outputs": []
    },
    {
      "cell_type": "code",
      "source": [
        "from sklearn.model_selection import train_test_split\n",
        "\n",
        "test_split = 0.1\n",
        "\n",
        "# Initial train and test split.\n",
        "train_df, test_df = train_test_split(\n",
        "    df_filtered,\n",
        "    test_size=test_split,\n",
        "    stratify=df_filtered[\"budget_tags\"].values,\n",
        ")\n",
        "\n",
        "# Splitting the test set further into validation\n",
        "# and new test sets.\n",
        "val_df = test_df.sample(frac=0.5)\n",
        "test_df.drop(val_df.index, inplace=True)\n",
        "\n",
        "print(f\"Number of rows in training set: {len(train_df)}\")\n",
        "print(f\"Number of rows in validation set: {len(val_df)}\")\n",
        "print(f\"Number of rows in test set: {len(test_df)}\")"
      ],
      "metadata": {
        "colab": {
          "base_uri": "https://localhost:8080/"
        },
        "id": "rShgoCssnCuK",
        "outputId": "8c8d5026-5afc-4193-ec7f-97fc8de5e80d"
      },
      "execution_count": null,
      "outputs": [
        {
          "output_type": "stream",
          "name": "stdout",
          "text": [
            "Number of rows in training set: 35293\n",
            "Number of rows in validation set: 1961\n",
            "Number of rows in test set: 1961\n"
          ]
        }
      ]
    },
    {
      "cell_type": "code",
      "source": [
        "from tensorflow.keras import layers\n",
        "from tensorflow import keras\n",
        "import tensorflow as tf"
      ],
      "metadata": {
        "id": "EMEbgeSIvJm5"
      },
      "execution_count": null,
      "outputs": []
    },
    {
      "cell_type": "code",
      "source": [
        "terms = tf.ragged.constant(train_df[\"budget_tags\"].values)\n",
        "lookup = tf.keras.layers.StringLookup(output_mode=\"multi_hot\")\n",
        "lookup.adapt(terms)\n",
        "vocab = lookup.get_vocabulary()\n",
        "\n",
        "\n",
        "def invert_multi_hot(encoded_labels):\n",
        "    \"\"\"Reverse a single multi-hot encoded label to a tuple of vocab terms.\"\"\"\n",
        "    hot_indices = np.argwhere(encoded_labels == 1.0)[..., 0]\n",
        "    return np.take(vocab, hot_indices)\n",
        "\n",
        "\n",
        "print(\"Vocabulary:\\n\")\n",
        "print(vocab)"
      ],
      "metadata": {
        "colab": {
          "base_uri": "https://localhost:8080/"
        },
        "id": "3tpT4YHmvKwz",
        "outputId": "6cef1187-684d-4401-b273-f1984d5b6e9c"
      },
      "execution_count": null,
      "outputs": [
        {
          "output_type": "stream",
          "name": "stdout",
          "text": [
            "Vocabulary:\n",
            "\n",
            "['[UNK]', '50 - 100 Ribu', '100 - 150 Ribu', '150 - 200 Ribu', '20 - 50 Ribu', '450 - 500 Ribu', '250 - 300 Ribu', '200 - 250 Ribu', '350 - 450 Ribu', '900 Ribu -  1 Juta', '300 - 350 Ribu', '1.25 -  1.5 Juta', '500 - 600 Ribu', '700 - 800 Ribu', '1.75 -  2 Juta', '600 - 700 Ribu', '2 -  2.5 Juta', '2.5 -  3 Juta', '1 -  1.25 Juta', '4 -  5 Juta', '3 -  4 Juta', '800 - 900 Ribu', '1.5 -  1.75 Juta', '5 -  6 Juta', '9 -  10 Juta', '6 -  7 Juta', '7 -  8 Juta', '12.5 -  15 Juta', '10 -  12.5 Juta', '8 -  9 Juta', '17.5 -  20 Juta', '15 -  17.5 Juta', '20 -  25 Juta']\n"
          ]
        }
      ]
    },
    {
      "cell_type": "code",
      "source": [
        "sample_label = train_df[\"budget_tags\"].iloc[250]\n",
        "print(f\"Original label: {sample_label}\")\n",
        "\n",
        "label_binarized = lookup([sample_label])\n",
        "print(f\"Label-binarized representation: {label_binarized}\")"
      ],
      "metadata": {
        "colab": {
          "base_uri": "https://localhost:8080/"
        },
        "id": "2eroVq6uvSjX",
        "outputId": "0b19c1a4-7c29-41c6-9ee9-f0e107f300ed"
      },
      "execution_count": null,
      "outputs": [
        {
          "output_type": "stream",
          "name": "stdout",
          "text": [
            "Original label: ['200 - 250 Ribu']\n",
            "Label-binarized representation: [[0. 0. 0. 0. 0. 0. 0. 1. 0. 0. 0. 0. 0. 0. 0. 0. 0. 0. 0. 0. 0. 0. 0. 0.\n",
            "  0. 0. 0. 0. 0. 0. 0. 0. 0.]]\n"
          ]
        }
      ]
    },
    {
      "cell_type": "code",
      "source": [
        "max_seqlen = 150\n",
        "batch_size = 128\n",
        "padding_token = \"<pad>\"\n",
        "auto = tf.data.AUTOTUNE\n",
        "\n",
        "\n",
        "def make_dataset(dataframe, is_train=True):\n",
        "    labels = tf.ragged.constant(dataframe[\"budget_tags\"].values)\n",
        "    label_binarized = lookup(labels).numpy()\n",
        "    dataset = tf.data.Dataset.from_tensor_slices(\n",
        "        (dataframe[\"text\"].values, label_binarized)\n",
        "    )\n",
        "    dataset = dataset.shuffle(batch_size * 10) if is_train else dataset\n",
        "    return dataset.batch(batch_size)"
      ],
      "metadata": {
        "id": "_0EvodycvWgv"
      },
      "execution_count": null,
      "outputs": []
    },
    {
      "cell_type": "code",
      "source": [
        "train_dataset = make_dataset(train_df, is_train=True)\n",
        "validation_dataset = make_dataset(val_df, is_train=False)\n",
        "test_dataset = make_dataset(test_df, is_train=False)"
      ],
      "metadata": {
        "id": "IWtqAf46vbAu"
      },
      "execution_count": null,
      "outputs": []
    },
    {
      "cell_type": "code",
      "source": [
        "text_batch, label_batch = next(iter(train_dataset))\n",
        "\n",
        "for i, text in enumerate(text_batch[:5]):\n",
        "    label = label_batch[i].numpy()[None, ...]\n",
        "    print(f\"Text: {text}\")\n",
        "    print(f\"Budget: {invert_multi_hot(label[0])}\")\n",
        "    print(\" \")"
      ],
      "metadata": {
        "colab": {
          "base_uri": "https://localhost:8080/"
        },
        "id": "TL88JjzDvc5F",
        "outputId": "34e82b4f-f3af-48bd-8ffc-215bfd8353ef"
      },
      "execution_count": null,
      "outputs": [
        {
          "output_type": "stream",
          "name": "stdout",
          "text": [
            "Text: b'cari jasa mendownload foto menuliskan copywriting produk website hai kelvin owner online shop sedang mencariteam work dapat bekerja freelance tugasnya mendownload foto marketplace website rangkum menjadi sebuah file maksutnya ini misal link tokopedia sebuah produk link atas ketahui produk tas masukan sebuah file excel software pendukung mudah di baca mudah di input nantinya ke website'\n",
            "Budget: ['50 - 100 Ribu']\n",
            " \n",
            "Text: b'membuat crud formulir pendaftaran dear all worker memiliki sebuah form pendaftaran form mendaftar tambah yang tinggal form edit formulir view formulirnya menggunakan codeigniter project mudah lama pengerjaan 1 2 hari selesai melebihi batas waktu saya berhak melakukan arbitrase worker bid terbaik portfolio cukup terpilih kasih'\n",
            "Budget: ['150 - 200 Ribu']\n",
            " \n",
            "Text: b'pembuatan artikel dibutuhkan pembuat artikel tema fashion lifestyle projek jangka panjang bila sesuai harapan ini dibutuhkan 2 artikel awal'\n",
            "Budget: ['100 - 150 Ribu']\n",
            " \n",
            "Text: b'dicati jasa setting tampilan menu halaman wordpress dicari web developer setting menu tampilan wordpress toko online web tampilan desktop mobile mirip demo template theme savoy v1 5 7 kami download install saat import demo content ternyata sama persis tampilan ada laman kira sudah mahir mengatur menu tampilan wordpress merupakan yang sangat mudah sekali instruksi lebih detil masukan proposal anda'\n",
            "Budget: ['50 - 100 Ribu']\n",
            " \n",
            "Text: b'membutuhkan jasa edit aplikasi berbasis vb net punya source code aplikasi berbasis vb net ingin menambahkan fitur serial number nantinya terkoneksi sistem tujuannya saya melihat mengaktifkan menonaktifkan serial number masing masing pengguna'\n",
            "Budget: ['450 - 500 Ribu']\n",
            " \n"
          ]
        }
      ]
    },
    {
      "cell_type": "code",
      "source": [
        "vocabulary = set()\n",
        "train_df[\"text\"].str.lower().str.split().apply(vocabulary.update)\n",
        "vocabulary_size = len(vocabulary)\n",
        "print(vocabulary_size)"
      ],
      "metadata": {
        "colab": {
          "base_uri": "https://localhost:8080/"
        },
        "id": "S7FIq0D_vkuW",
        "outputId": "42f7500b-330c-461a-eebb-9e2ce706f088"
      },
      "execution_count": null,
      "outputs": [
        {
          "output_type": "stream",
          "name": "stdout",
          "text": [
            "48962\n"
          ]
        }
      ]
    },
    {
      "cell_type": "code",
      "source": [
        "text_vectorizer = layers.TextVectorization(\n",
        "    max_tokens=vocabulary_size, ngrams=2, output_mode=\"tf_idf\"\n",
        ")\n",
        "\n",
        "# `TextVectorization` layer needs to be adapted as per the vocabulary from our\n",
        "# training set.\n",
        "with tf.device(\"/CPU:0\"):\n",
        "    text_vectorizer.adapt(train_dataset.map(lambda text, label: text))\n",
        "\n",
        "train_dataset = train_dataset.map(\n",
        "    lambda text, label: (text_vectorizer(text), label), num_parallel_calls=auto\n",
        ").prefetch(auto)\n",
        "validation_dataset = validation_dataset.map(\n",
        "    lambda text, label: (text_vectorizer(text), label), num_parallel_calls=auto\n",
        ").prefetch(auto)\n",
        "test_dataset = test_dataset.map(\n",
        "    lambda text, label: (text_vectorizer(text), label), num_parallel_calls=auto\n",
        ").prefetch(auto)"
      ],
      "metadata": {
        "id": "4UDkSRk3vvGR"
      },
      "execution_count": null,
      "outputs": []
    },
    {
      "cell_type": "markdown",
      "source": [
        "## Base Model"
      ],
      "metadata": {
        "id": "fuiagtliwVlo"
      }
    },
    {
      "cell_type": "code",
      "source": [
        "def make_model():\n",
        "    shallow_mlp_model = keras.Sequential(\n",
        "        [   layers.Dense(512, activation=\"relu\"),\n",
        "            layers.Dense(216, activation=\"relu\"),\n",
        "            layers.Dense(128, activation=\"relu\"),\n",
        "            layers.Dense(lookup.vocabulary_size(), activation=\"sigmoid\"),\n",
        "        ]  # More on why \"sigmoid\" has been used here in a moment.\n",
        "    )\n",
        "    return shallow_mlp_model"
      ],
      "metadata": {
        "id": "AOuzGEmDvxW4"
      },
      "execution_count": null,
      "outputs": []
    },
    {
      "cell_type": "code",
      "source": [
        "epochs = 20\n",
        "\n",
        "shallow_mlp_model = make_model()\n",
        "shallow_mlp_model.compile(\n",
        "    loss=\"binary_crossentropy\", optimizer=\"adam\", metrics=[\"binary_accuracy\"]\n",
        ")\n",
        "\n",
        "history = shallow_mlp_model.fit(\n",
        "    train_dataset, validation_data=validation_dataset, epochs=epochs\n",
        ")"
      ],
      "metadata": {
        "colab": {
          "base_uri": "https://localhost:8080/"
        },
        "id": "jJxJ-8Mqv3Oi",
        "outputId": "9c34f112-2d23-4ec0-f315-325419b7d2fb"
      },
      "execution_count": null,
      "outputs": [
        {
          "output_type": "stream",
          "name": "stdout",
          "text": [
            "Epoch 1/20\n",
            "276/276 [==============================] - 12s 23ms/step - loss: 0.1256 - binary_accuracy: 0.9669 - val_loss: 0.1037 - val_binary_accuracy: 0.9707\n",
            "Epoch 2/20\n",
            "276/276 [==============================] - 7s 25ms/step - loss: 0.0646 - binary_accuracy: 0.9768 - val_loss: 0.1176 - val_binary_accuracy: 0.9688\n",
            "Epoch 3/20\n",
            "276/276 [==============================] - 7s 24ms/step - loss: 0.0275 - binary_accuracy: 0.9912 - val_loss: 0.1529 - val_binary_accuracy: 0.9678\n",
            "Epoch 4/20\n",
            "276/276 [==============================] - 7s 24ms/step - loss: 0.0164 - binary_accuracy: 0.9951 - val_loss: 0.1920 - val_binary_accuracy: 0.9661\n",
            "Epoch 5/20\n",
            "276/276 [==============================] - 6s 20ms/step - loss: 0.0127 - binary_accuracy: 0.9962 - val_loss: 0.2119 - val_binary_accuracy: 0.9652\n",
            "Epoch 6/20\n",
            "276/276 [==============================] - 7s 24ms/step - loss: 0.0109 - binary_accuracy: 0.9966 - val_loss: 0.2306 - val_binary_accuracy: 0.9641\n",
            "Epoch 7/20\n",
            "276/276 [==============================] - 6s 21ms/step - loss: 0.0096 - binary_accuracy: 0.9969 - val_loss: 0.2221 - val_binary_accuracy: 0.9642\n",
            "Epoch 8/20\n",
            "276/276 [==============================] - 7s 25ms/step - loss: 0.0087 - binary_accuracy: 0.9972 - val_loss: 0.2482 - val_binary_accuracy: 0.9642\n",
            "Epoch 9/20\n",
            "276/276 [==============================] - 6s 20ms/step - loss: 0.0081 - binary_accuracy: 0.9973 - val_loss: 0.2430 - val_binary_accuracy: 0.9646\n",
            "Epoch 10/20\n",
            "276/276 [==============================] - 7s 25ms/step - loss: 0.0075 - binary_accuracy: 0.9974 - val_loss: 0.2477 - val_binary_accuracy: 0.9643\n",
            "Epoch 11/20\n",
            "276/276 [==============================] - 6s 21ms/step - loss: 0.0070 - binary_accuracy: 0.9976 - val_loss: 0.2716 - val_binary_accuracy: 0.9644\n",
            "Epoch 12/20\n",
            "276/276 [==============================] - 7s 26ms/step - loss: 0.0066 - binary_accuracy: 0.9977 - val_loss: 0.2710 - val_binary_accuracy: 0.9634\n",
            "Epoch 13/20\n",
            "276/276 [==============================] - 6s 21ms/step - loss: 0.0063 - binary_accuracy: 0.9977 - val_loss: 0.2888 - val_binary_accuracy: 0.9622\n",
            "Epoch 14/20\n",
            "276/276 [==============================] - 6s 20ms/step - loss: 0.0059 - binary_accuracy: 0.9978 - val_loss: 0.2813 - val_binary_accuracy: 0.9636\n",
            "Epoch 15/20\n",
            "276/276 [==============================] - 7s 26ms/step - loss: 0.0057 - binary_accuracy: 0.9978 - val_loss: 0.2905 - val_binary_accuracy: 0.9630\n",
            "Epoch 16/20\n",
            "276/276 [==============================] - 6s 20ms/step - loss: 0.0053 - binary_accuracy: 0.9979 - val_loss: 0.2777 - val_binary_accuracy: 0.9623\n",
            "Epoch 17/20\n",
            "276/276 [==============================] - 7s 24ms/step - loss: 0.0050 - binary_accuracy: 0.9979 - val_loss: 0.2826 - val_binary_accuracy: 0.9627\n",
            "Epoch 18/20\n",
            "276/276 [==============================] - 6s 21ms/step - loss: 0.0050 - binary_accuracy: 0.9979 - val_loss: 0.2925 - val_binary_accuracy: 0.9619\n",
            "Epoch 19/20\n",
            "276/276 [==============================] - 7s 26ms/step - loss: 0.0046 - binary_accuracy: 0.9980 - val_loss: 0.2894 - val_binary_accuracy: 0.9625\n",
            "Epoch 20/20\n",
            "276/276 [==============================] - 6s 20ms/step - loss: 0.0044 - binary_accuracy: 0.9980 - val_loss: 0.3309 - val_binary_accuracy: 0.9619\n"
          ]
        }
      ]
    },
    {
      "cell_type": "code",
      "source": [
        "def plot_result(item):\n",
        "    plt.plot(history.history[item], label=item)\n",
        "    plt.plot(history.history[\"val_\" + item], label=\"val_\" + item)\n",
        "    plt.xlabel(\"Epochs\")\n",
        "    plt.ylabel(item)\n",
        "    plt.title(\"Train and Validation {} Over Epochs\".format(item), fontsize=14)\n",
        "    plt.legend()\n",
        "    plt.grid()\n",
        "    plt.show()\n",
        "\n",
        "\n",
        "plot_result(\"loss\")\n",
        "plot_result(\"binary_accuracy\")"
      ],
      "metadata": {
        "colab": {
          "base_uri": "https://localhost:8080/",
          "height": 929
        },
        "id": "00mxlkthw5nr",
        "outputId": "dc3fa9a9-228b-476b-edf7-9752e1e2b6f7"
      },
      "execution_count": null,
      "outputs": [
        {
          "output_type": "display_data",
          "data": {
            "text/plain": [
              "<Figure size 640x480 with 1 Axes>"
            ],
            "image/png": "[encoded data removed]"
          },
          "metadata": {}
        },
        {
          "output_type": "display_data",
          "data": {
            "text/plain": [
              "<Figure size 640x480 with 1 Axes>"
            ],
            "image/png": "[encoded data removed]"
          },
          "metadata": {}
        }
      ]
    },
    {
      "cell_type": "code",
      "source": [
        "_, binary_acc = shallow_mlp_model.evaluate(test_dataset)\n",
        "print(f\"Categorical accuracy on the test set: {round(binary_acc * 100, 2)}%.\")"
      ],
      "metadata": {
        "colab": {
          "base_uri": "https://localhost:8080/"
        },
        "id": "6aQdEMgbw7A_",
        "outputId": "88d2f8e5-aad1-4866-9ec4-f15e5d44e7c0"
      },
      "execution_count": null,
      "outputs": [
        {
          "output_type": "stream",
          "name": "stdout",
          "text": [
            "16/16 [==============================] - 0s 15ms/step - loss: 0.3534 - binary_accuracy: 0.9603\n",
            "Categorical accuracy on the test set: 96.03%.\n"
          ]
        }
      ]
    },
    {
      "cell_type": "code",
      "source": [
        "# Create a model for inference.\n",
        "model_for_inference = keras.Sequential([text_vectorizer, shallow_mlp_model])\n",
        "\n",
        "# Create a small dataset just for demoing inference.\n",
        "inference_dataset = make_dataset(test_df.sample(100), is_train=False)\n",
        "text_batch, label_batch = next(iter(inference_dataset))\n",
        "predicted_probabilities = model_for_inference.predict(text_batch)\n",
        "\n",
        "# Perform inference.\n",
        "for i, text in enumerate(text_batch[:5]):\n",
        "    label = label_batch[i].numpy()[None, ...]\n",
        "    print(f\"Text: {text}\")\n",
        "    print(f\"Budget: {invert_multi_hot(label[0])}\")\n",
        "    predicted_proba = [proba for proba in predicted_probabilities[i]]\n",
        "    top_1_labels = [\n",
        "        x\n",
        "        for _, x in sorted(\n",
        "            zip(predicted_probabilities[i], lookup.get_vocabulary()),\n",
        "            key=lambda pair: pair[0],\n",
        "            reverse=True,\n",
        "        )\n",
        "    ][:1]\n",
        "    print(f\"Predicted Budget: ({', '.join([label for label in top_1_labels])})\")\n",
        "    print(\" \")"
      ],
      "metadata": {
        "colab": {
          "base_uri": "https://localhost:8080/"
        },
        "id": "kxLmQgCrxCwX",
        "outputId": "99b3dbd9-e809-4b61-d454-d8625dd51c99"
      },
      "execution_count": null,
      "outputs": [
        {
          "output_type": "stream",
          "name": "stdout",
          "text": [
            "4/4 [==============================] - 0s 6ms/step\n",
            "Text: b'php admin adminlte show data push notif telegram api post ulang dapat kandidat sesuai butuh programmer buat dashboard admin menggunakan adminlte template lain buat show data database saya siapkan setiap data baru masuk db di push notifikasi telegram database mysql saya siapkan tinggal show di halaman admin bisa menggunakan datatables dan pagin ada proses crud'\n",
            "Budget: ['250 - 300 Ribu']\n",
            "Predicted Budget: (450 - 500 Ribu)\n",
            " \n",
            "Text: b'design brosur a5 custom sport jersey perlu bantuan design brosur uk a5 promosi jasa pembuatan custom sport jersey budget rp 500 000 dateline 2 hari berikan link portfolio design teman-teman website facebook instagram materi saya logo beberapa mockup file png sisanya desainer thanks'\n",
            "Budget: ['250 - 300 Ribu']\n",
            "Predicted Budget: (150 - 200 Ribu)\n",
            " \n",
            "Text: b'penulis blog bahasa inggris membutuhkan mampu menulis artikel bahasa inggris baik adapun syarat harus dipenuhi sebagai jumlah kata min 800 kata jumlah artikel minimal dibutuhkan 1 hari 2 artikel tulisan orisinil bukan hasil copy paste google translate lulus copyscape struktur grammar baik mudah dipahami tulisan seo friendly menjadi nilai tambah mampu menulis minimal 2 artikel 1 hari kerja sabtu ahad libur tanggal merah libur target 1 bulan target artikel harus diselesaikan 60 buah artikel familiar platform wordpress bertanggung jawab penuh konten artikel anda tulis artikel yang sudah adalah mutlak milik blog tempat tulisan publish'\n",
            "Budget: ['1.25 -  1.5 Juta']\n",
            "Predicted Budget: (1.25 -  1.5 Juta)\n",
            " \n",
            "Text: b'mau beli channel youtube butuh channel youtube gmailnya minimal channel berumur tahun 2015 kebawah gaes butuh cepat respon cepat'\n",
            "Budget: ['350 - 450 Ribu']\n",
            "Predicted Budget: (100 - 150 Ribu)\n",
            " \n",
            "Text: b'pembuatan logo produk membutuhkan freelance mendesain logo label produk ketentuan saya adalah raw design ai cdr psd produk dibuat berupa minuman cup message terlebih untuk menanyakan spesifikasi detail terimakasih'\n",
            "Budget: ['100 - 150 Ribu']\n",
            "Predicted Budget: (50 - 100 Ribu)\n",
            " \n"
          ]
        }
      ]
    }
  ],
  "metadata": {
    "kernelspec": {
      "display_name": "Python 3",
      "name": "python3"
    },
    "language_info": {
      "codemirror_mode": {
        "name": "ipython",
        "version": 3
      },
      "file_extension": ".py",
      "mimetype": "text/x-python",
      "name": "python",
      "nbconvert_exporter": "python",
      "pygments_lexer": "ipython3",
      "version": "3.11.1"
    },
    "orig_nbformat": 4,
    "colab": {
      "provenance": [],
      "collapsed_sections": [
        "XBOSVJzF3ool",
        "h18Sh3aC3oor"
      ],
      "gpuType": "T4"
    },
    "accelerator": "GPU"
  },
  "nbformat": 4,
  "nbformat_minor": 0
}